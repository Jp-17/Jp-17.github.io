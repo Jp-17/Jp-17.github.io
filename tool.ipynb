{
 "cells": [
  {
   "cell_type": "code",
   "execution_count": 3,
   "metadata": {},
   "outputs": [
    {
     "name": "stdout",
     "output_type": "stream",
     "text": [
      "images/proj.png resize success\n"
     ]
    },
    {
     "name": "stderr",
     "output_type": "stream",
     "text": [
      "C:\\Users\\jiang\\AppData\\Local\\Temp\\ipykernel_38372\\1551011343.py:8: DeprecationWarning: ANTIALIAS is deprecated and will be removed in Pillow 10 (2023-07-01). Use Resampling.LANCZOS instead.\n",
      "  out = img.resize((width, height), Image.ANTIALIAS)\n"
     ]
    }
   ],
   "source": [
    "# 修改图片大小\n",
    "# -*- coding: utf-8 -*-\n",
    "from PIL import Image\n",
    "import os\n",
    "\n",
    "def resizeImg(filein, fileout, width, height, type):\n",
    "    img = Image.open(filein)\n",
    "    out = img.resize((width, height), Image.ANTIALIAS)\n",
    "    # out.save(fileout, type)\n",
    "    out.save(fileout + '.' + type, type)\n",
    "\n",
    "\n",
    "filein = 'images/proj.png'  # 2945, 2245\n",
    "fileout = 'images/proj_1'\n",
    "resizeImg(filein, fileout, 981, 748, 'png')\n",
    "print(filein + \" resize success\")\n",
    "\n",
    "\n"
   ]
  }
 ],
 "metadata": {
  "kernelspec": {
   "display_name": "Multitasks_RNN",
   "language": "python",
   "name": "python3"
  },
  "language_info": {
   "codemirror_mode": {
    "name": "ipython",
    "version": 3
   },
   "file_extension": ".py",
   "mimetype": "text/x-python",
   "name": "python",
   "nbconvert_exporter": "python",
   "pygments_lexer": "ipython3",
   "version": "3.8.16"
  }
 },
 "nbformat": 4,
 "nbformat_minor": 2
}
